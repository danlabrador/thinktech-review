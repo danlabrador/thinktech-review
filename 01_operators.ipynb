{
 "cells": [
  {
   "cell_type": "markdown",
   "metadata": {},
   "source": [
    "# ThinkTech Review: Python Operators"
   ]
  },
  {
   "cell_type": "markdown",
   "metadata": {},
   "source": [
    "## Operators\n",
    "In Python, **operators** are special symbols that perform operations on variables and values. They are the backbone of any programming language and allow you to manipulate data to perform various tasks. This notebook will cover:\n",
    "- Arithmetic Operators\n",
    "- Assignment Operators\n",
    "- Comparison Operators\n",
    "- Logical Operators\n",
    "- Membership Operators"
   ]
  },
  {
   "cell_type": "markdown",
   "metadata": {},
   "source": [
    "## Arithmetic Operators\n",
    "Arithmetic operators are used to perform mathematical operations such as addition, subtraction, multiplication, etc.\n",
    "\n",
    "| Operator | Name           | Example       |\n",
    "|----------|----------------|---------------|\n",
    "| `+`      | Addition       | `a + b`       |\n",
    "| `-`      | Subtraction    | `a - b`       |\n",
    "| `*`      | Multiplication | `a * b`       |\n",
    "| `/`      | Division       | `a / b`       |\n",
    "| `%`      | Modulus        | `a % b`       |\n",
    "| `**`     | Exponentiation | `a ** b`      |\n",
    "| `//`     | Floor Division | `a // b`      |\n",
    "\n",
    "- Perform basic arithmetic operations and print the results."
   ]
  },
  {
   "cell_type": "code",
   "execution_count": null,
   "metadata": {},
   "outputs": [],
   "source": [
    "# Addition\n",
    "sum_result = ____ + ____\n",
    "print('Addition result:', sum_result)\n",
    "\n",
    "# Subtraction\n",
    "sub_result = ____ - ____\n",
    "print('Subtraction result:', sub_result)\n",
    "\n",
    "# Multiplication\n",
    "mul_result = ____ * ____\n",
    "print('Multiplication result:', mul_result)\n",
    "\n",
    "# Division\n",
    "div_result = ____ / ____\n",
    "print('Division result:', div_result)\n",
    "\n",
    "# Modulus\n",
    "mod_result = ____ % ____\n",
    "print('Modulus result:', mod_result)\n",
    "\n",
    "# Exponentiation\n",
    "exp_result = ____ ** ____\n",
    "print('Exponentiation result:', exp_result)\n",
    "\n",
    "# Floor Division\n",
    "floor_div_result = ____ // ____\n",
    "print('Floor Division result:', floor_div_result)"
   ]
  },
  {
   "cell_type": "markdown",
   "metadata": {},
   "source": [
    "## Assignment Operators\n",
    "Assignment operators are used to assign values to variables. They combine an arithmetic operation with assignment.\n",
    "\n",
    "| Operator | Example    | Equivalent to    |\n",
    "|----------|------------|------------------|\n",
    "| `=`      | `x = 5`    | `x = 5`          |\n",
    "| `+=`     | `x += 3`   | `x = x + 3`      |\n",
    "| `-=`     | `x -= 3`   | `x = x - 3`      |\n",
    "| `*=`     | `x *= 3`   | `x = x * 3`      |\n",
    "| `/=`     | `x /= 3`   | `x = x / 3`      |\n",
    "| `%=`     | `x %= 3`   | `x = x % 3`      |\n",
    "| `**=`    | `x **= 3`  | `x = x ** 3`     |\n",
    "| `//=`    | `x //= 3`  | `x = x // 3`     |\n",
    "\n",
    "- Use assignment operators to modify the value of a variable."
   ]
  },
  {
   "cell_type": "code",
   "execution_count": null,
   "metadata": {},
   "outputs": [],
   "source": [
    "# Initial value\n",
    "x = ____\n",
    "print('Initial x =', x)\n",
    "\n",
    "# Using +=\n",
    "x ____ ____\n",
    "print('After x += 5, x =', x)\n",
    "\n",
    "# Using -=\n",
    "x ____ ____\n",
    "print('After x -= 3, x =', x)\n",
    "\n",
    "# Using *=\n",
    "x ____ ____\n",
    "print('After x *= 2, x =', x)\n",
    "\n",
    "# Using /=\n",
    "x ____ ____\n",
    "print('After x /= 4, x =', x)\n",
    "\n",
    "# Using %= (modulus)\n",
    "x ____ ____\n",
    "print('After x %= 3, x =', x)\n",
    "\n",
    "# Reset x\n",
    "x = ____\n",
    "\n",
    "# Using **=\n",
    "x ____ ____\n",
    "print('After x **= 3, x =', x)\n",
    "\n",
    "# Using //=\n",
    "x ____ ____\n",
    "print('After x //= 7, x =', x)"
   ]
  },
  {
   "cell_type": "markdown",
   "metadata": {},
   "source": [
    "## Comparison Operators\n",
    "Comparison operators are used to compare two values. They return a boolean value (`True` or `False`).\n",
    "\n",
    "| Operator | Name                  | Example      |\n",
    "|----------|-----------------------|--------------|\n",
    "| `==`     | Equal                 | `a == b`     |\n",
    "| `!=`     | Not equal             | `a != b`     |\n",
    "| `>`      | Greater than          | `a > b`      |\n",
    "| `<`      | Less than             | `a < b`      |\n",
    "| `>=`     | Greater than or equal | `a >= b`     |\n",
    "| `<=`     | Less than or equal    | `a <= b`     |\n",
    "\n",
    "- Use comparison operators to compare values and print the results."
   ]
  },
  {
   "cell_type": "code",
   "execution_count": null,
   "metadata": {},
   "outputs": [],
   "source": [
    "a = ____\n",
    "b = ____\n",
    "\n",
    "# Equal\n",
    "print('a == b:', a ____ b)\n",
    "\n",
    "# Not equal\n",
    "print('a != b:', a ____ b)\n",
    "\n",
    "# Greater than\n",
    "print('a > b:', a ____ b)\n",
    "\n",
    "# Less than\n",
    "print('a < b:', a ____ b)\n",
    "\n",
    "# Greater than or equal to\n",
    "print('a >= b:', a ____ b)\n",
    "\n",
    "# Less than or equal to\n",
    "print('a <= b:', a ____ b)"
   ]
  },
  {
   "cell_type": "markdown",
   "metadata": {},
   "source": [
    "## Logical Operators\n",
    "Logical operators are used to combine conditional statements.\n",
    "\n",
    "| Operator | Description                             | Example                      |\n",
    "|----------|-----------------------------------------|------------------------------|\n",
    "| `and`    | Returns `True` if both statements are true | `x < 5 and x < 10`        |\n",
    "| `or`     | Returns `True` if one of the statements is true | `x < 5 or x < 4`     |\n",
    "| `not`    | Reverse the result, returns `False` if the result is true | `not(x < 5 and x < 10)` |\n",
    "\n",
    "- Use logical operators in conditional statements and print the results."
   ]
  },
  {
   "cell_type": "code",
   "execution_count": null,
   "metadata": {},
   "outputs": [],
   "source": [
    "x = ____\n",
    "\n",
    "# and operator\n",
    "print('x > 5 and x < 10:', x ____ ____ and x ____ ____)\n",
    "\n",
    "# or operator\n",
    "print('x < 5 or x < 10:', x ____ ____ or x ____ ____)\n",
    "\n",
    "# not operator\n",
    "print('not(x > 5 and x < 10):', ____ (x ____ ____ and x ____ ____))"
   ]
  },
  {
   "cell_type": "markdown",
   "metadata": {},
   "source": [
    "## Membership Operators\n",
    "Membership operators are used to test if a sequence is presented in an object.\n",
    "\n",
    "| Operator | Description                                  | Example          |\n",
    "|----------|----------------------------------------------|------------------|\n",
    "| `in`     | Returns `True` if a sequence with the specified value is present in the object | `x in y` |\n",
    "| `not in` | Returns `True` if a sequence with the specified value is not present in the object | `x not in y` |\n",
    "\n",
    "- Use membership operators to check if an element is in a list or string."
   ]
  },
  {
   "cell_type": "code",
   "execution_count": null,
   "metadata": {},
   "outputs": [],
   "source": [
    "# Using 'in' with a list\n",
    "fruits = ['apple', 'banana', 'cherry']\n",
    "print(\"'apple' in fruits:\", 'apple' ____ fruits)\n",
    "\n",
    "# Using 'not in' with a list\n",
    "print(\"'orange' not in fruits:\", 'orange' ____ fruits)\n",
    "\n",
    "# Using 'in' with a string\n",
    "text = 'Hello World'\n",
    "print(\"'H' in text:\", 'H' ____ text)\n",
    "\n",
    "# Using 'not in' with a string\n",
    "print(\"'hi' not in text:\", 'hi' ____ text)"
   ]
  },
  {
   "cell_type": "markdown",
   "metadata": {},
   "source": [
    "## Conclusion\n",
    "Understanding operators is fundamental in programming. They allow you to perform operations on data, compare values, and control the flow of your programs. Practice using these operators to become proficient in Python programming."
   ]
  }
 ],
 "metadata": {
  "kernelspec": {
   "display_name": "Python 3",
   "language": "python",
   "name": "python3"
  },
  "language_info": {
   "name": "python",
   "version": "3.12.7"
  }
 },
 "nbformat": 4,
 "nbformat_minor": 2
}
