{
 "cells": [
  {
   "cell_type": "markdown",
   "metadata": {},
   "source": [
    "# ThinkTech Review"
   ]
  },
  {
   "cell_type": "markdown",
   "metadata": {},
   "source": [
    "## I am a Jupyter Notebook\n",
    "It's time to run Python code on Jupyter!\n",
    "\n",
    "Head to the code and hit the run code button to see the output."
   ]
  },
  {
   "cell_type": "code",
   "execution_count": null,
   "metadata": {},
   "outputs": [],
   "source": [
    "# Hit run code to see the output!\n",
    "print(5 / 8)"
   ]
  },
  {
   "cell_type": "markdown",
   "metadata": {},
   "source": [
    "## Any comments?\n",
    "You can also add comments to your Python scripts. Comments are important to make sure that you and others can understand what your code is about and do not run as Python code.\n",
    "\n",
    "They start with `#` tag. See the comment in the editor, `# Division`; now it's your turn to add a comment!"
   ]
  },
  {
   "cell_type": "code",
   "execution_count": null,
   "metadata": {},
   "outputs": [],
   "source": [
    "# Division\n",
    "print(5 / 8)\n",
    "\n",
    "print(7 + 10)"
   ]
  },
  {
   "cell_type": "markdown",
   "metadata": {},
   "source": [
    "## Python as a calculator\n",
    "Python is perfectly suited to do basic calculations. It can do addition, subtraction, multiplication and division.\n",
    "\n",
    "The code in the script gives some examples.\n",
    "\n",
    "Now it's your turn to practice!\n",
    "\n",
    "- Print the sum of 4 + 5.\n",
    "- Print the result of subtracting 5 from 5.\n",
    "- Print the result of multiplying 3 by 5.\n",
    "- Print the result of dividing 10 by 2."
   ]
  },
  {
   "cell_type": "code",
   "execution_count": null,
   "metadata": {},
   "outputs": [],
   "source": [
    "# Addition\n",
    "\n",
    "\n",
    "# Subtraction\n",
    "\n",
    "\n",
    "# Multiplication\n",
    "\n",
    "\n",
    "# Division\n"
   ]
  },
  {
   "cell_type": "markdown",
   "metadata": {},
   "source": [
    "## Variable Assignment\n",
    "In Python, a variable allows you to refer to a value with a name. To create a variable `x` with a value of `5`, you use `=`, like this example:\n",
    "\n",
    "```python\n",
    "x = 5\n",
    "```\n",
    "\n",
    "You can now use the name of this variable, `x`, instead of the actual value, `5`.\n",
    "\n",
    "Remember, `=` in Python means assignment, it doesn't test equality! Try it in the exercise by replacing `____` with your code.\n",
    "\n",
    "- Create a variable `savings` with the value of `100`.\n",
    "- Check out this variable by typing `print(savings)` in the script."
   ]
  },
  {
   "cell_type": "code",
   "execution_count": null,
   "metadata": {},
   "outputs": [],
   "source": [
    "# Create a variable savings\n",
    "\n",
    "\n",
    "# Print out savings\n"
   ]
  },
  {
   "cell_type": "markdown",
   "metadata": {},
   "source": [
    "## Calculations with variables\n",
    "You've now created a savings variable, so let's start saving!\n",
    "\n",
    "Instead of calculating with the actual values, you can use variables instead.\n",
    "\n",
    "How much money would you have saved four months from now, if you saved ₱1,000 each month?\n",
    "\n",
    "- Create a variable `monthly_savings`, equal to `1_000` and `num_months`, equal to `4`.\n",
    "- Multiply `monthly_savings` by `num_months` and assign it to `new_savings`.\n",
    "- Print the value of `new_savings`."
   ]
  },
  {
   "cell_type": "code",
   "execution_count": null,
   "metadata": {},
   "outputs": [],
   "source": [
    "# Create the variables monthly_savings and num_months\n",
    "\n",
    "\n",
    "\n",
    "# Multiply monthly_savings and num_months\n",
    "new_savings = ''\n",
    "\n",
    "# Print new_savings\n"
   ]
  },
  {
   "cell_type": "markdown",
   "metadata": {},
   "source": [
    "## Other variable types\n",
    "In the previous exercise, you worked with the integer Python data type:\n",
    "\n",
    "- `int`, or integer: a number without a fractional part. `savings`, with the value `100`, is an example of an integer.\n",
    "\n",
    "Next to numerical data types, there are three other very common data types:\n",
    "\n",
    "- `float`, or floating point: a number that has both an integer and fractional part, separated by a point. `1.1`, is an example of a float.\n",
    "- `str`, or string: a type to represent text. You can use single or double quotes to build a string.\n",
    "- `bool`, or boolean: a type to represent logical values. It can only be `True` or `False` (the capitalization is important!).\n",
    "\n",
    "Now it's your turn to create a new variable of each type!\n",
    "- Create a new float, `half`, with the value `0.5`.\n",
    "- Create a new string, `intro`, with the value `\"Hello! How are you?\"`.\n",
    "- Create a new boolean, `is_good`, with the value `True`."
   ]
  },
  {
   "cell_type": "code",
   "execution_count": null,
   "metadata": {},
   "outputs": [],
   "source": [
    "# Create a variable half\n",
    "\n",
    "\n",
    "# Create a variable intro\n",
    "\n",
    "\n",
    "# Create a variable is_good\n"
   ]
  },
  {
   "cell_type": "markdown",
   "metadata": {},
   "source": [
    "## Operations with other types\n",
    "Variables come in different types in Python. You can see the type of a variable by using `type()`. For example, to see type of `a`, execute: `type(a)`.\n",
    "\n",
    "Different types behave differently in Python. When you sum two strings, for example, you'll get different behavior than when you sum two integers or two booleans.\n",
    "\n",
    "Time for you to test this out.\n",
    "\n",
    "- Add `savings` and `new_savings` and assign it to `total_savings`.\n",
    "- Use `type()` to print the resulting type of `total_savings`."
   ]
  },
  {
   "cell_type": "code",
   "execution_count": null,
   "metadata": {},
   "outputs": [],
   "source": [
    "savings = 100\n",
    "new_savings = 40\n",
    "\n",
    "# Calculate total_savings using savings and new_savings\n",
    "____\n",
    "print(total_savings)\n",
    "\n",
    "# Print the type of total_savings\n",
    "print(____)"
   ]
  },
  {
   "cell_type": "markdown",
   "metadata": {},
   "source": [
    "- Calculate the sum of `intro` and `intro` and assign the result to `doubleintro`.\n",
    "- Print out `doubleintro`. Did you expect this?"
   ]
  },
  {
   "cell_type": "code",
   "execution_count": null,
   "metadata": {},
   "outputs": [],
   "source": [
    "intro = \"Hello! How are you?\"\n",
    "\n",
    "# Assign sum of intro and intro to doubleintro\n",
    "____\n",
    "\n",
    "# Print out doubleintro\n",
    "print(____)"
   ]
  }
 ],
 "metadata": {
  "kernelspec": {
   "display_name": "Python 3",
   "language": "python",
   "name": "python3"
  },
  "language_info": {
   "name": "python",
   "version": "3.12.7"
  }
 },
 "nbformat": 4,
 "nbformat_minor": 2
}
