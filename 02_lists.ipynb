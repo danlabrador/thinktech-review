{
 "cells": [
  {
   "cell_type": "markdown",
   "metadata": {},
   "source": [
    "# ThinkTech Review: Python Lists"
   ]
  },
  {
   "cell_type": "markdown",
   "metadata": {},
   "source": [
    "## Create a list\n",
    "A list is a **compound data type**; you can group values together, like this:\n",
    "\n",
    "```python\n",
    "a = \"is\"\n",
    "b = \"nice\"\n",
    "my_list = [\"my\", \"list\", a, b]\n",
    "```\n",
    "\n",
    "After measuring the height of your family, you decide to collect some information on the house you're living in. The areas of the different parts of your house are stored in separate variables in the exercise.\n",
    "\n",
    "- Create a list, `areas`, that contains the area of the hallway (`hall`), kitchen (`kit`), living room (`liv`), bedroom (`bed`) and bathroom (`bath`), in this order. Use the predefined variables.\n",
    "- Print `areas` with the `print()` function."
   ]
  },
  {
   "cell_type": "code",
   "execution_count": null,
   "metadata": {},
   "outputs": [],
   "source": [
    "hall = 11.25\n",
    "kit = 18.0\n",
    "liv = 20.0\n",
    "bed = 10.75\n",
    "bath = 9.50\n",
    "\n",
    "# Create list areas\n",
    "\n",
    "\n",
    "# Print areas\n"
   ]
  },
  {
   "cell_type": "markdown",
   "metadata": {},
   "source": [
    "## Create lists with different types\n",
    "Although it's not really common, a list can also contain a mix of Python types including strings, floats, and booleans.\n",
    "\n",
    "You're now going to add the room names to your list, so you can easily see both the room name and size together.\n",
    "\n",
    "Some of the code has been provided for you to get you started. Pay attention here! `\"bathroom\"` is a string, while `bath` is a variable that represents the float `9.50` you specified earlier.\n",
    "\n",
    "- Finish the code that creates the `areas` list. Build the list so that the list first contains the name of each room as a string and then its area. In other words, add the strings \"`hallway`\", \"`kitchen`\" and \"`bedroom`\" at the appropriate locations.\n",
    "- Print `areas` again; is the printout more informative this time?"
   ]
  },
  {
   "cell_type": "code",
   "execution_count": null,
   "metadata": {},
   "outputs": [],
   "source": [
    "# Adapt list areas\n",
    "areas = [____, hall, ____, kit, \"living room\", liv, ____, bed, \"bathroom\", bath]\n",
    "\n",
    "# Print areas\n",
    "____"
   ]
  },
  {
   "cell_type": "markdown",
   "metadata": {},
   "source": [
    "## List of lists\n",
    "As python programmers, you'll often be dealing with a lot of data, and it will make sense to group some of this data.\n",
    "\n",
    "Instead of creating a list containing strings and floats, representing the names and areas of the rooms in your house, you can create a list of lists.\n",
    "\n",
    "Remember: \"`hallway`\" is a string, while `hall` is a variable that represents the float `11.25` you specified earlier.\n",
    "- Finish the list of lists so that it also contains the bedroom and bathroom data. Make sure you enter these in order!\n",
    "- Print out `house`; does this way of structuring your data make more sense?"
   ]
  },
  {
   "cell_type": "code",
   "execution_count": null,
   "metadata": {},
   "outputs": [],
   "source": [
    "# House information as list of lists\n",
    "house = [[\"hallway\", hall],\n",
    "         [\"kitchen\", kit],\n",
    "         [\"living room\", liv],\n",
    "        ____,\n",
    "        ____]\n",
    "\n",
    "# Print out house\n",
    "____"
   ]
  },
  {
   "cell_type": "markdown",
   "metadata": {},
   "source": [
    "## Subset and conquer\n",
    "Subsetting Python lists is a piece of cake. Take the code sample below, which creates a list `x` and then selects \"b\" from it. Remember that this is the second element, so it has index 1. You can also use negative indexing.\n",
    "\n",
    "```python\n",
    "x = [\"a\", \"b\", \"c\", \"d\"]\n",
    "x[1]\n",
    "x[-3] # same result!\n",
    "```\n",
    "\n",
    "Remember the `areas` list from before, containing both strings and floats? Its definition is already in the script. Can you add the correct code to do some Python subsetting?\n",
    "\n",
    "- Print out the second element from the `areas` list (it has the value `11.25`).\n",
    "- Subset and print out the last element of `areas`, being `9.50`. Using a negative index makes sense here!\n",
    "- Select the number representing the area of the living room (`20.0`) and print it out."
   ]
  },
  {
   "cell_type": "code",
   "execution_count": null,
   "metadata": {},
   "outputs": [],
   "source": [
    "# Create the areas list\n",
    "areas = [\"hallway\", 11.25, \"kitchen\", 18.0, \"living room\", 20.0, \"bedroom\", 10.75, \"bathroom\", 9.50]\n",
    "\n",
    "# Print out second element from areas\n",
    "print(areas[____])\n",
    "\n",
    "# Print out last element from areas\n",
    "print(areas[____])\n",
    "\n",
    "# Print out the area of the living room\n",
    "print(areas[____])"
   ]
  },
  {
   "cell_type": "markdown",
   "metadata": {},
   "source": [
    "## Slicing and dicing\n",
    "Selecting single values from a list is just one part of the story. It's also possible to slice your list, which means selecting multiple elements from your list. Use the following syntax:\n",
    "\n",
    "```python\n",
    "my_list[start:end]\n",
    "```\n",
    "\n",
    "The `start` index will be included, while the `end` index is not. However, it's also possible not to specify these indexes. If you don't specify the `start` index, Python figures out that you want to start your slice at the beginning of your list.\n",
    "\n",
    "- Use slicing to create a list, `downstairs`, that contains the first 6 elements of `areas`.\n",
    "- Create `upstairs`, as the last `4` elements of `areas`. This time, simplify the slicing by omitting the `end` index.\n",
    "- Print both `downstairs` and `upstairs` using `print()`."
   ]
  },
  {
   "cell_type": "code",
   "execution_count": null,
   "metadata": {},
   "outputs": [],
   "source": [
    "# Create the areas list\n",
    "areas = [\"hallway\", 11.25, \"kitchen\", 18.0, \"living room\", 20.0, \"bedroom\", 10.75, \"bathroom\", 9.50]\n",
    "\n",
    "# Use slicing to create downstairs\n",
    "downstairs = areas[____]\n",
    "\n",
    "# Use slicing to create upstairs\n",
    "upstairs = areas[____]\n",
    "\n",
    "# Print out downstairs and upstairs\n",
    "____\n",
    "____"
   ]
  },
  {
   "cell_type": "markdown",
   "metadata": {},
   "source": [
    "## Subsetting lists of lists\n",
    "A Python list can also contain other lists.\n",
    "\n",
    "To subset lists of lists, you can use the same technique as before: square brackets. This would look something like this for a list, `house`:\n",
    "\n",
    "```python\n",
    "house[2][0]\n",
    "```\n",
    "\n",
    "- Subset the `house` list to get the float `9.5`."
   ]
  },
  {
   "cell_type": "code",
   "execution_count": null,
   "metadata": {},
   "outputs": [],
   "source": [
    "house = [[\"hallway\", 11.25],\n",
    "         [\"kitchen\", 18.0],\n",
    "         [\"living room\", 20.0],\n",
    "         [\"bedroom\", 10.75],\n",
    "         [\"bathroom\", 9.50]]\n",
    "\n",
    "# Subset the house list\n",
    "house___"
   ]
  },
  {
   "cell_type": "markdown",
   "metadata": {},
   "source": [
    "## Replace list elements\n",
    "To replace list elements, you subset the list and assign new values to the subset. You can select single elements or you can change entire list slices at once.\n",
    "\n",
    "For this and the following exercises, you'll continue working on the `areas` list that contains the names and areas of different rooms in a house.\n",
    "\n",
    "- Update the area of the bathroom to be `10.50` square meters instead of `9.50` using negative indexing.\n",
    "- Make the areas list more trendy! Change `\"living room\"` to `\"chill zone\"`. Don't use negative indexing this time."
   ]
  },
  {
   "cell_type": "code",
   "execution_count": null,
   "metadata": {},
   "outputs": [],
   "source": [
    "# Create the areas list\n",
    "areas = [\"hallway\", 11.25, \"kitchen\", 18.0, \"living room\", 20.0, \"bedroom\", 10.75, \"bathroom\", 9.50]\n",
    "\n",
    "# Correct the bathroom area\n",
    "\n",
    "\n",
    "# Change \"living room\" to \"chill zone\"\n"
   ]
  },
  {
   "cell_type": "markdown",
   "metadata": {},
   "source": [
    "## Extend a list\n",
    "If you can change elements in a list, you sure want to be able to add elements to it, right? You can use the `+` operator:\n",
    "\n",
    "```python\n",
    "x = [\"a\", \"b\", \"c\", \"d\"]\n",
    "y = x + [\"e\", \"f\"]\n",
    "```\n",
    "\n",
    "You just won the lottery, awesome! You decide to build a poolhouse and a garage. Can you add the information to the `areas` list?\n",
    "\n",
    "- Use the `+` operator to paste the list `[\"poolhouse\", 24.5]` to the end of the `areas` list. Store the resulting list as `areas_1`.\n",
    "- Further extend `areas_1` by adding data on your garage. Add the string `\"garage\"` and float `15.45`. Name the resulting list `areas_2`."
   ]
  },
  {
   "cell_type": "code",
   "execution_count": null,
   "metadata": {},
   "outputs": [],
   "source": [
    "# Create the areas list and make some changes\n",
    "areas = [\"hallway\", 11.25, \"kitchen\", 18.0, \"chill zone\", 20.0,\n",
    "         \"bedroom\", 10.75, \"bathroom\", 10.50]\n",
    "\n",
    "# Add poolhouse data to areas, new list is areas_1\n",
    "areas_1 = ____\n",
    "\n",
    "# Add garage data to areas_1, new list is areas_2\n",
    "areas_2 = ____"
   ]
  },
  {
   "cell_type": "markdown",
   "metadata": {},
   "source": [
    "## Delete list elements\n",
    "Finally, you can also remove elements from your list. You can do this with the del statement:\n",
    "\n",
    "```python\n",
    "x = [\"a\", \"b\", \"c\", \"d\"]\n",
    "del x[1]\n",
    "```\n",
    "\n",
    "Pay attention here: as soon as you remove an element from a list, the indexes of the elements that come after the deleted element all change!\n",
    "\n",
    "Unfortunately, the amount you won with the lottery is not that big after all and it looks like the poolhouse isn't going to happen. You'll need to remove it from the list. You decide to remove the corresponding string and float from the `areas` list.\n",
    "\n",
    "- Delete the string and float for the `\"poolhouse\"` from your `areas` list.\n",
    "- Print the updated `areas` list."
   ]
  },
  {
   "cell_type": "code",
   "execution_count": null,
   "metadata": {},
   "outputs": [],
   "source": [
    "areas = [\"hallway\", 11.25, \"kitchen\", 18.0,\n",
    "        \"chill zone\", 20.0, \"bedroom\", 10.75,\n",
    "         \"bathroom\", 10.50, \"poolhouse\", 24.5,\n",
    "         \"garage\", 15.45]\n",
    "\n",
    "# Delete the poolhouse items from the list\n",
    "\n",
    "\n",
    "# Print the updated list\n"
   ]
  },
  {
   "cell_type": "markdown",
   "metadata": {},
   "source": [
    "## Inner workings of lists\n",
    "Some code has been provided for you in this exercise: a list with the name `areas` and a copy named `areas_copy`.\n",
    "\n",
    "Currently, the first element in the `areas_copy` list is changed and the `areas` list is printed out. If you hit the run code button you'll see that, although you've changed `areas_copy`, the change also takes effect in the `areas` list. That's because `areas` and `areas_copy` point to the same list.\n",
    "\n",
    "If you want to prevent changes in `areas_copy` from also taking effect in `areas`, you'll have to do a more explicit copy of the `areas` list with `list()` or by using `[:]`.\n",
    "\n",
    "- Change the second command, that creates the variable `areas_copy`, such that `areas_copy` is an explicit copy of `areas`. After your edit, changes made to `areas_copy` shouldn't affect `areas`."
   ]
  },
  {
   "cell_type": "code",
   "execution_count": null,
   "metadata": {},
   "outputs": [],
   "source": [
    "# Create list areas\n",
    "areas = [11.25, 18.0, 20.0, 10.75, 9.50]\n",
    "\n",
    "# Change this command\n",
    "areas_copy = areas\n",
    "\n",
    "# Change areas_copy\n",
    "areas_copy[0] = 5.0\n",
    "\n",
    "# Print areas\n",
    "print(areas)"
   ]
  }
 ],
 "metadata": {
  "kernelspec": {
   "display_name": "Python 3",
   "language": "python",
   "name": "python3"
  },
  "language_info": {
   "name": "python",
   "version": "3.12.7"
  }
 },
 "nbformat": 4,
 "nbformat_minor": 2
}
