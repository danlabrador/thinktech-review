{
 "cells": [
  {
   "cell_type": "markdown",
   "metadata": {},
   "source": [
    "# ThinkTech Review: Python Control Structures"
   ]
  },
  {
   "cell_type": "markdown",
   "metadata": {},
   "source": [
    "## Control Structures\n",
    "Control structures allow you to control the flow of your program. They enable you to make decisions (using conditions) and repeat actions (using loops).\n",
    "\n",
    "In this notebook, we'll explore:\n",
    "- **If...else statements**: Making decisions based on conditions.\n",
    "- **While loops**: Repeating actions while a condition is true.\n",
    "- **For loops**: Iterating over sequences like lists, tuples, or strings."
   ]
  },
  {
   "cell_type": "markdown",
   "metadata": {},
   "source": [
    "## If...else Statements\n",
    "An **if statement** lets you run a block of code only if a certain condition is true.\n",
    "\n",
    "The basic syntax is:\n",
    "```python\n",
    "if condition:\n",
    "    # code to execute if condition is true\n",
    "```\n",
    "\n",
    "- Create a variable `age` and assign it a value.\n",
    "- Write an if statement that prints `'You are a teenager.'` if `age` is between 13 and 19.\n",
    "- Use `else` to print `'You are not a teenager.'` if the condition is false."
   ]
  },
  {
   "cell_type": "code",
   "execution_count": null,
   "metadata": {},
   "outputs": [],
   "source": [
    "# Assign age\n",
    "age = ____\n",
    "\n",
    "# If...else statement\n",
    "if ____ <= age <= ____:\n",
    "    print('You are a teenager.')\n",
    "else:\n",
    "    print('You are not a teenager.')"
   ]
  },
  {
   "cell_type": "markdown",
   "metadata": {},
   "source": [
    "## If...elif...else Statements\n",
    "You can check multiple conditions using `elif` (short for 'else if').\n",
    "\n",
    "```python\n",
    "if condition1:\n",
    "    # code if condition1 is true\n",
    "elif condition2:\n",
    "    # code if condition2 is true\n",
    "else:\n",
    "    # code if none of the above conditions are true\n",
    "```\n",
    "\n",
    "- Create a variable `score` with a value between 0 and 100.\n",
    "- Use if...elif...else to assign and print a grade based on `score`:\n",
    "  - 90 and above: `'A'`\n",
    "  - 80 to 89: `'B'`\n",
    "  - 70 to 79: `'C'`\n",
    "  - Below 70: `'F'`"
   ]
  },
  {
   "cell_type": "code",
   "execution_count": null,
   "metadata": {},
   "outputs": [],
   "source": [
    "# Assign score\n",
    "score = ____\n",
    "\n",
    "# Determine grade\n",
    "if score >= ____:\n",
    "    grade = 'A'\n",
    "elif score >= ____:\n",
    "    grade = 'B'\n",
    "elif score >= ____:\n",
    "    grade = 'C'\n",
    "else:\n",
    "    grade = 'F'\n",
    "\n",
    "# Print the grade\n",
    "print('Your grade is:', grade)"
   ]
  },
  {
   "cell_type": "markdown",
   "metadata": {},
   "source": [
    "## Nested If Statements\n",
    "You can place an if statement inside another if statement. This is called nesting.\n",
    "\n",
    "- Create a variable `number`.\n",
    "- Write a nested if statement to check if `number` is positive, negative, or zero, and whether it's even or odd."
   ]
  },
  {
   "cell_type": "code",
   "execution_count": null,
   "metadata": {},
   "outputs": [],
   "source": [
    "# Assign number\n",
    "number = ____\n",
    "\n",
    "# Nested if statements\n",
    "if number > 0:\n",
    "    print('Positive number')\n",
    "    if number % 2 == 0:\n",
    "        print('Even')\n",
    "    else:\n",
    "        print('Odd')\n",
    "elif number == 0:\n",
    "    print('Zero')\n",
    "else:\n",
    "    print('Negative number')"
   ]
  },
  {
   "cell_type": "markdown",
   "metadata": {},
   "source": [
    "## While Loops\n",
    "A **while loop** allows you to execute a set of statements as long as a condition is true.\n",
    "\n",
    "```python\n",
    "while condition:\n",
    "    # code to execute repeatedly\n",
    "```\n",
    "\n",
    "- Initialize a variable `count` to `0`.\n",
    "- Write a while loop that prints numbers from `0` to `4`."
   ]
  },
  {
   "cell_type": "code",
   "execution_count": null,
   "metadata": {},
   "outputs": [],
   "source": [
    "# Initialize count\n",
    "count = 0\n",
    "\n",
    "# While loop\n",
    "while count < ____:\n",
    "    print(count)\n",
    "    count = count + 1  # or count += 1"
   ]
  },
  {
   "cell_type": "markdown",
   "metadata": {},
   "source": [
    "## Using Break in Loops\n",
    "The **break** statement can be used to exit a loop prematurely.\n",
    "\n",
    "- Write a while loop that keeps asking the user for input.\n",
    "- If the user types `'exit'`, break out of the loop.\n",
    "- Otherwise, print the input."
   ]
  },
  {
   "cell_type": "code",
   "execution_count": null,
   "metadata": {},
   "outputs": [],
   "source": [
    "# While loop with break\n",
    "while True:\n",
    "    user_input = input('Type something (or \"exit\" to quit): ')\n",
    "    if user_input == ____:\n",
    "        break\n",
    "    else:\n",
    "        print('You typed:', user_input)"
   ]
  },
  {
   "cell_type": "markdown",
   "metadata": {},
   "source": [
    "## Using Continue in Loops\n",
    "The **continue** statement skips the rest of the code inside a loop for the current iteration only.\n",
    "\n",
    "- Write a while loop that prints numbers from `1` to `5`.\n",
    "- Use `continue` to skip printing the number `3`."
   ]
  },
  {
   "cell_type": "code",
   "execution_count": null,
   "metadata": {},
   "outputs": [],
   "source": [
    "# Initialize variable\n",
    "num = 0\n",
    "\n",
    "# While loop with continue\n",
    "while num < 5:\n",
    "    num += 1\n",
    "    if num == ____:\n",
    "        continue\n",
    "    print(num)"
   ]
  },
  {
   "cell_type": "markdown",
   "metadata": {},
   "source": [
    "## For Loops\n",
    "A **for loop** is used for iterating over a sequence (like a list, tuple, or string).\n",
    "\n",
    "```python\n",
    "for variable in sequence:\n",
    "    # code to execute for each element\n",
    "```\n",
    "\n",
    "- Create a list `fruits` containing `'apple'`, `'banana'`, and `'cherry'`.\n",
    "- Use a for loop to print each fruit."
   ]
  },
  {
   "cell_type": "code",
   "execution_count": null,
   "metadata": {},
   "outputs": [],
   "source": [
    "# Create a list\n",
    "fruits = [____]\n",
    "\n",
    "# For loop to print each fruit\n",
    "for fruit in ____:\n",
    "    print(fruit)"
   ]
  },
  {
   "cell_type": "markdown",
   "metadata": {},
   "source": [
    "## Using range() in For Loops\n",
    "The **range()** function returns a sequence of numbers.\n",
    "\n",
    "- Use a for loop with `range()` to print numbers from `0` to `4`."
   ]
  },
  {
   "cell_type": "code",
   "execution_count": null,
   "metadata": {},
   "outputs": [],
   "source": [
    "# For loop with range()\n",
    "for i in range(____):\n",
    "    print(i)"
   ]
  },
  {
   "cell_type": "markdown",
   "metadata": {},
   "source": [
    "## Looping Over a String\n",
    "Strings are sequences, so you can loop over them character by character.\n",
    "\n",
    "- Assign a string `text` with the value `'Hello'`.\n",
    "- Use a for loop to print each character in `text`."
   ]
  },
  {
   "cell_type": "code",
   "execution_count": null,
   "metadata": {},
   "outputs": [],
   "source": [
    "# Assign the string\n",
    "text = ____\n",
    "\n",
    "# For loop over the string\n",
    "for char in ____:\n",
    "    print(char)"
   ]
  },
  {
   "cell_type": "markdown",
   "metadata": {},
   "source": [
    "## Nested For Loops\n",
    "You can place one for loop inside another to create a nested loop.\n",
    "\n",
    "- Write a nested for loop to print a multiplication table from 1 to 3."
   ]
  },
  {
   "cell_type": "code",
   "execution_count": null,
   "metadata": {},
   "outputs": [],
   "source": [
    "# Nested for loops for multiplication table\n",
    "for i in range(1, ____):\n",
    "    for j in range(1, ____):\n",
    "        product = i * j\n",
    "        print(f'{i} x {j} = {product}')\n",
    "    print('----------')  # Separator for each number"
   ]
  },
  {
   "cell_type": "markdown",
   "metadata": {},
   "source": [
    "## Else Clause in Loops\n",
    "Both `for` and `while` loops can have an `else` clause. The `else` part is executed when the loop finishes normally (no `break` occurred).\n",
    "\n",
    "- Use a for loop to search for a number in a list.\n",
    "- If the number is found, print `'Found'` and break the loop.\n",
    "- Use `else` to print `'Not found'` if the number is not in the list."
   ]
  },
  {
   "cell_type": "code",
   "execution_count": null,
   "metadata": {},
   "outputs": [],
   "source": [
    "# List of numbers\n",
    "numbers = [2, 4, 6, 8, 10]\n",
    "target = 5\n",
    "\n",
    "# For loop with else\n",
    "for num in numbers:\n",
    "    if num == ____:\n",
    "        print('Found')\n",
    "        break\n",
    "else:\n",
    "    print('Not found')"
   ]
  },
  {
   "cell_type": "markdown",
   "metadata": {},
   "source": [
    "## Infinite Loops\n",
    "An infinite loop runs forever unless stopped. Be careful to ensure your loop conditions will eventually be false.\n",
    "\n",
    "- Write a while loop that runs infinitely.\n",
    "- Include a condition to break the loop when a variable reaches a certain value."
   ]
  },
  {
   "cell_type": "code",
   "execution_count": null,
   "metadata": {},
   "outputs": [],
   "source": [
    "# Initialize variable\n",
    "i = 0\n",
    "\n",
    "# Infinite loop with break\n",
    "while True:\n",
    "    print(i)\n",
    "    i += 1\n",
    "    if i == ____:\n",
    "        break"
   ]
  },
  {
   "cell_type": "markdown",
   "metadata": {},
   "source": [
    "## Pass Statement\n",
    "The **pass** statement is a null operation; nothing happens when it executes. It's useful as a placeholder.\n",
    "\n",
    "- Write an if statement that checks if a number is positive.\n",
    "- Use `pass` inside the if block."
   ]
  },
  {
   "cell_type": "code",
   "execution_count": null,
   "metadata": {},
   "outputs": [],
   "source": [
    "# Assign number\n",
    "number = ____\n",
    "\n",
    "# If statement with pass\n",
    "if number > 0:\n",
    "    ____  # Placeholder for future code\n",
    "else:\n",
    "    print('Number is not positive')"
   ]
  }
 ],
 "metadata": {
  "kernelspec": {
   "display_name": "Python 3",
   "language": "python",
   "name": "python3"
  },
  "language_info": {
   "name": "python",
   "version": ""
  }
 },
 "nbformat": 4,
 "nbformat_minor": 2
}
