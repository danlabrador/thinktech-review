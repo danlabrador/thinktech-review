{
 "cells": [
  {
   "cell_type": "markdown",
   "metadata": {},
   "source": [
    "# ThinkTech Review: Python String"
   ]
  },
  {
   "cell_type": "markdown",
   "metadata": {},
   "source": [
    "## Strings\n",
    "In Python, a **string** is a sequence of characters enclosed within single (`' '`) or double (`\" \"`) quotes.\n",
    "\n",
    "Strings are used to represent text-based data and are one of the most commonly used data types in Python.\n",
    "\n",
    "- Create a string `greeting` that says `'Hello'`.\n",
    "- Print `greeting` using the `print()` function."
   ]
  },
  {
   "cell_type": "code",
   "execution_count": null,
   "metadata": {},
   "outputs": [],
   "source": [
    "# Create a string\n",
    "greeting = ____\n",
    "\n",
    "# Print the string\n",
    "print(____)"
   ]
  },
  {
   "cell_type": "markdown",
   "metadata": {},
   "source": [
    "## String Concatenation\n",
    "You can **concatenate** (join) two or more strings using the `+` operator.\n",
    "\n",
    "- Create two strings: `first_name` with your first name and `last_name` with your last name.\n",
    "- Concatenate `first_name` and `last_name` with a space in between and assign it to `full_name`.\n",
    "- Print `full_name`."
   ]
  },
  {
   "cell_type": "code",
   "execution_count": null,
   "metadata": {},
   "outputs": [],
   "source": [
    "# Create first_name and last_name\n",
    "first_name = ____\n",
    "last_name = ____\n",
    "\n",
    "# Concatenate strings\n",
    "full_name = ____ + ____ + ____\n",
    "\n",
    "# Print full_name\n",
    "print(____)"
   ]
  },
  {
   "cell_type": "markdown",
   "metadata": {},
   "source": [
    "## String Repetition\n",
    "You can repeat a string multiple times using the `*` operator.\n",
    "\n",
    "- Create a string `echo` that repeats the word `'Echo'` three times.\n",
    "- Print `echo`."
   ]
  },
  {
   "cell_type": "code",
   "execution_count": null,
   "metadata": {},
   "outputs": [],
   "source": [
    "# Repeat the string\n",
    "echo = ____ * ____\n",
    "\n",
    "# Print echo\n",
    "print(____)"
   ]
  },
  {
   "cell_type": "markdown",
   "metadata": {},
   "source": [
    "## String Indexing\n",
    "Each character in a string has an index number starting from 0. You can access characters using square brackets `[]`.\n",
    "\n",
    "- Given the string `word = 'Python'`, print the first character.\n",
    "- Print the last character using negative indexing."
   ]
  },
  {
   "cell_type": "code",
   "execution_count": null,
   "metadata": {},
   "outputs": [],
   "source": [
    "word = 'Python'\n",
    "\n",
    "# Print the first character\n",
    "print(____)\n",
    "\n",
    "# Print the last character\n",
    "print(____)"
   ]
  },
  {
   "cell_type": "markdown",
   "metadata": {},
   "source": [
    "## String Slicing\n",
    "You can get a substring by slicing the string using `start:end` inside square brackets `[]`.\n",
    "\n",
    "- Slice the string `word` to get `'Pyt'`.\n",
    "- Slice `word` to get `'hon'`."
   ]
  },
  {
   "cell_type": "code",
   "execution_count": null,
   "metadata": {},
   "outputs": [],
   "source": [
    "word = 'Python'\n",
    "\n",
    "# Slice to get 'Pyt'\n",
    "print(____)\n",
    "\n",
    "# Slice to get 'hon'\n",
    "print(____)"
   ]
  },
  {
   "cell_type": "markdown",
   "metadata": {},
   "source": [
    "## Membership Operators\n",
    "You can check if a substring exists within a string using the `in` and `not in` operators.\n",
    "\n",
    "- Check if `'Py'` is in `word`.\n",
    "- Check if `'java'` is not in `word`."
   ]
  },
  {
   "cell_type": "code",
   "execution_count": null,
   "metadata": {},
   "outputs": [],
   "source": [
    "word = 'Python'\n",
    "\n",
    "# Check if 'Py' is in word\n",
    "print(____)\n",
    "\n",
    "# Check if 'java' is not in word\n",
    "print(____)"
   ]
  },
  {
   "cell_type": "markdown",
   "metadata": {},
   "source": [
    "## String Comparison Operators\n",
    "You can compare strings using comparison operators: `==`, `!=`, `>`, `<`, `>=`, `<=`.\n",
    "\n",
    "- Compare if `'apple'` is equal to `'Apple'`.\n",
    "- Check if `'banana'` is greater than `'apple'` (lexicographically)."
   ]
  },
  {
   "cell_type": "code",
   "execution_count": null,
   "metadata": {},
   "outputs": [],
   "source": [
    "# Compare 'apple' and 'Apple'\n",
    "print(____ == ____)\n",
    "\n",
    "# Check if 'banana' > 'apple'\n",
    "print(____ > ____)"
   ]
  },
  {
   "cell_type": "markdown",
   "metadata": {},
   "source": [
    "## Escape Characters\n",
    "Certain characters are difficult to include directly in a string. Escape characters allow you to include them.\n",
    "\n",
    "- Use `\\n` to create a string `multiline` that spans multiple lines.\n",
    "- Use `\\t` to include a tab in a string."
   ]
  },
  {
   "cell_type": "code",
   "execution_count": null,
   "metadata": {},
   "outputs": [],
   "source": [
    "# Create a multiline string\n",
    "multiline = 'This is line one\\nThis is line two'\n",
    "print(____)\n",
    "\n",
    "# Include a tab in a string\n",
    "tabbed = 'Column1\\tColumn2'\n",
    "print(____)"
   ]
  },
  {
   "cell_type": "markdown",
   "metadata": {},
   "source": [
    "## Raw Strings\n",
    "Raw strings treat backslashes (`\\`) as literal characters. You can create them by prefixing the string with `r`.\n",
    "\n",
    "- Create a raw string `path` with the value `r'C:\\new_folder\\test.txt'`.\n",
    "- Print `path`."
   ]
  },
  {
   "cell_type": "code",
   "execution_count": null,
   "metadata": {},
   "outputs": [],
   "source": [
    "# Create a raw string\n",
    "path = ____\n",
    "\n",
    "# Print path\n",
    "print(____)"
   ]
  },
  {
   "cell_type": "markdown",
   "metadata": {},
   "source": [
    "## Formatting Strings\n",
    "You can format strings using the `%` operator or the `format()` method.\n",
    "\n",
    "- Use the `%` operator to include the number `10` in a string: `'I have %d apples'`.\n",
    "- Use the `format()` method to include `'Python'` in `'I love {}'`."
   ]
  },
  {
   "cell_type": "code",
   "execution_count": null,
   "metadata": {},
   "outputs": [],
   "source": [
    "# Using % operator\n",
    "print('I have %d apples' % ____)\n",
    "\n",
    "# Using format() method\n",
    "print('I love {}'.format(____))"
   ]
  },
  {
   "cell_type": "markdown",
   "metadata": {},
   "source": [
    "## f-Strings (Formatted String Literals)\n",
    "Introduced in Python 3.6, f-Strings allow you to embed expressions inside string literals.\n",
    "\n",
    "- Use an f-String to create `'The result is 42'` using the variable `result = 42`.\n",
    "- Print the f-String."
   ]
  },
  {
   "cell_type": "code",
   "execution_count": null,
   "metadata": {},
   "outputs": [],
   "source": [
    "result = 42\n",
    "\n",
    "# Create an f-String\n",
    "message = ____\n",
    "\n",
    "# Print the message\n",
    "print(____)"
   ]
  },
  {
   "cell_type": "markdown",
   "metadata": {},
   "source": [
    "## String Methods\n",
    "Although not operators, string methods are functions that perform specific operations on strings.\n",
    "\n",
    "- Convert the string `'hello world'` to uppercase.\n",
    "- Split the string `'one,two,three'` into a list using the comma delimiter."
   ]
  },
  {
   "cell_type": "code",
   "execution_count": null,
   "metadata": {},
   "outputs": [],
   "source": [
    "# Convert to uppercase\n",
    "uppercase_str = 'hello world'.____()\n",
    "print(____)\n",
    "\n",
    "# Split the string\n",
    "split_list = 'one,two,three'.____(',')\n",
    "print(____)"
   ]
  }
 ],
 "metadata": {
  "kernelspec": {
   "display_name": "Python 3",
   "language": "python",
   "name": "python3"
  },
  "language_info": {
   "name": "python",
   "version": "3.12.7"
  }
 },
 "nbformat": 4,
 "nbformat_minor": 2
}
