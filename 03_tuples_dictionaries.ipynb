{
 "cells": [
  {
   "cell_type": "markdown",
   "metadata": {},
   "source": [
    "# ThinkTech Review: Python Tuples and Dictionaries"
   ]
  },
  {
   "cell_type": "markdown",
   "metadata": {},
   "source": [
    "## Tuples\n",
    "A **tuple** is a collection which is ordered and unchangeable (immutable). Tuples are written with round brackets `()`.\n",
    "\n",
    "Tuples can store multiple items in a single variable, and are often used when you want to ensure that the data cannot be modified.\n",
    "\n",
    "- Create a tuple `my_tuple` that contains the numbers `1`, `2`, and `3`.\n",
    "- Print `my_tuple` using the `print()` function."
   ]
  },
  {
   "cell_type": "code",
   "execution_count": null,
   "metadata": {},
   "outputs": [],
   "source": [
    "# Create a tuple\n",
    "my_tuple = (____)\n",
    "\n",
    "# Print the tuple\n",
    "print(____)"
   ]
  },
  {
   "cell_type": "markdown",
   "metadata": {},
   "source": [
    "## Accessing Tuple Elements\n",
    "You can access tuple items by referring to the index number, inside square brackets `[]`, similar to lists.\n",
    "\n",
    "- Given the tuple `fruits = ('apple', 'banana', 'cherry')`, print the first element.\n",
    "- Try to change the second element to `'orange'` and observe what happens."
   ]
  },
  {
   "cell_type": "code",
   "execution_count": null,
   "metadata": {},
   "outputs": [],
   "source": [
    "fruits = ('apple', 'banana', 'cherry')\n",
    "\n",
    "# Print the first element\n",
    "print(____)\n",
    "\n",
    "# Try to change the second element\n",
    "fruits[1] = 'orange'"
   ]
  },
  {
   "cell_type": "markdown",
   "metadata": {},
   "source": [
    "## Tuple Unpacking\n",
    "You can extract the values back into variables. This is called **unpacking**.\n",
    "\n",
    "- Unpack the tuple `coordinates = (10, 20)` into variables `x` and `y`.\n",
    "- Print `x` and `y`."
   ]
  },
  {
   "cell_type": "code",
   "execution_count": null,
   "metadata": {},
   "outputs": [],
   "source": [
    "coordinates = (10, 20)\n",
    "\n",
    "# Unpack the tuple\n",
    "____, ____ = coordinates\n",
    "\n",
    "# Print x and y\n",
    "print(____)\n",
    "print(____)"
   ]
  },
  {
   "cell_type": "markdown",
   "metadata": {},
   "source": [
    "## Nested Tuples\n",
    "Tuples can contain other tuples (or lists) as elements.\n",
    "\n",
    "- Create a tuple `nested_tuple` that contains `(1, 2, 3)` and `(4, 5, 6)`.\n",
    "- Access the number `5` from `nested_tuple`."
   ]
  },
  {
   "cell_type": "code",
   "execution_count": null,
   "metadata": {},
   "outputs": [],
   "source": [
    "# Create a nested tuple\n",
    "nested_tuple = (____, ____)\n",
    "\n",
    "# Access the number 5\n",
    "print(____)"
   ]
  },
  {
   "cell_type": "markdown",
   "metadata": {},
   "source": [
    "## Introduction to Dictionaries\n",
    "A **dictionary** is a collection which is unordered, changeable (mutable), and indexed. In Python, dictionaries are written with curly brackets `{}`, and they have keys and values.\n",
    "\n",
    "- Create a dictionary `student` with the keys `'name'`, `'age'`, and `'grade'`, and corresponding values `'Alice'`, `17`, and `'A'`.\n",
    "- Print the `student` dictionary."
   ]
  },
  {
   "cell_type": "code",
   "execution_count": null,
   "metadata": {},
   "outputs": [],
   "source": [
    "# Create a dictionary\n",
    "student = {'name': ____, 'age': ____, 'grade': ____}\n",
    "\n",
    "# Print the dictionary\n",
    "print(____)"
   ]
  },
  {
   "cell_type": "markdown",
   "metadata": {},
   "source": [
    "## Accessing and Modifying Dictionary Elements\n",
    "You can access the items of a dictionary by referring to its key name, inside square brackets `[]`.\n",
    "\n",
    "- Print the value of the `'name'` key from the `student` dictionary.\n",
    "- Change the `'grade'` to `'A+'` and print the updated dictionary."
   ]
  },
  {
   "cell_type": "code",
   "execution_count": null,
   "metadata": {},
   "outputs": [],
   "source": [
    "student = {'name': 'Alice', 'age': 17, 'grade': 'A'}\n",
    "\n",
    "# Access the 'name' key\n",
    "print(____)\n",
    "\n",
    "# Change 'grade' to 'A+'\n",
    "student[____] = ____\n",
    "\n",
    "# Print updated dictionary\n",
    "print(____)"
   ]
  },
  {
   "cell_type": "markdown",
   "metadata": {},
   "source": [
    "## Dictionary Methods\n",
    "Dictionaries have several built-in methods.\n",
    "\n",
    "- Use the `.keys()` method to get all the keys of the `student` dictionary.\n",
    "- Use the `.values()` method to get all the values."
   ]
  },
  {
   "cell_type": "code",
   "execution_count": null,
   "metadata": {},
   "outputs": [],
   "source": [
    "student = {'name': 'Alice', 'age': 17, 'grade': 'A+'}\n",
    "\n",
    "# Get keys\n",
    "keys = student.____()\n",
    "\n",
    "# Get values\n",
    "values = student.____()\n",
    "\n",
    "# Print keys and values\n",
    "print(____)\n",
    "print(____)"
   ]
  },
  {
   "cell_type": "markdown",
   "metadata": {},
   "source": [
    "## Adding and Removing Dictionary Elements\n",
    "You can add new items to a dictionary, or remove them.\n",
    "\n",
    "- Add a new key `'hobbies'` with the value `['reading', 'swimming']` to the `student` dictionary.\n",
    "- Remove the `'age'` key from the dictionary."
   ]
  },
  {
   "cell_type": "code",
   "execution_count": null,
   "metadata": {},
   "outputs": [],
   "source": [
    "student = {'name': 'Alice', 'age': 17, 'grade': 'A+'}\n",
    "\n",
    "# Add 'hobbies'\n",
    "student[____] = ____\n",
    "\n",
    "# Remove 'age'\n",
    "del student[____]\n",
    "\n",
    "# Print updated dictionary\n",
    "print(____)"
   ]
  },
  {
   "cell_type": "markdown",
   "metadata": {},
   "source": [
    "## Nested Dictionaries\n",
    "Dictionaries can contain other dictionaries as values.\n",
    "\n",
    "- Create a dictionary `classroom` with keys `'student1'`, `'student2'`, each containing a dictionary with `'name'` and `'grade'`.\n",
    "- Access the grade of `'student2'`."
   ]
  },
  {
   "cell_type": "code",
   "execution_count": null,
   "metadata": {},
   "outputs": [],
   "source": [
    "# Create nested dictionary\n",
    "classroom = {\n",
    "    'student1': {'name': 'Alice', 'grade': 'A'},\n",
    "    'student2': {'name': 'Bob', 'grade': 'B'}\n",
    "}\n",
    "\n",
    "# Access the grade of 'student2'\n",
    "print(____)"
   ]
  },
  {
   "cell_type": "markdown",
   "metadata": {},
   "source": [
    "## Using Tuples as Dictionary Keys\n",
    "Since tuples are immutable, they can be used as keys in dictionaries, whereas lists cannot.\n",
    "\n",
    "- Create a dictionary `locations` where the keys are coordinates (tuples) and the values are place names.\n",
    "- Add an entry with key `(40.7128, -74.0060)` and value `'New York'`.\n",
    "- Access the value using the key."
   ]
  },
  {
   "cell_type": "code",
   "execution_count": null,
   "metadata": {},
   "outputs": [],
   "source": [
    "# Create the dictionary\n",
    "locations = {}\n",
    "\n",
    "# Add an entry\n",
    "locations[____] = ____\n",
    "\n",
    "# Access the value\n",
    "print(____)"
   ]
  }
 ],
 "metadata": {
  "kernelspec": {
   "display_name": "Python 3",
   "language": "python",
   "name": "python3"
  },
  "language_info": {
   "name": "python",
   "version": "3.12.7"
  }
 },
 "nbformat": 4,
 "nbformat_minor": 2
}
